{
 "cells": [
  {
   "cell_type": "code",
   "execution_count": null,
   "metadata": {
    "colab": {
     "base_uri": "https://localhost:8080/"
    },
    "executionInfo": {
     "elapsed": 79838,
     "status": "ok",
     "timestamp": 1716491586645,
     "user": {
      "displayName": "nicole blackburn",
      "userId": "16637525718590790705"
     },
     "user_tz": -60
    },
    "id": "wQoqn8RRRp6z",
    "outputId": "404d3579-4d9a-4783-eded-9563169e4d92"
   },
   "outputs": [],
   "source": [
    "# run this file in google colab\n",
    "\n",
    "from google.colab import drive\n",
    "drive.mount('/content/drive')\n",
    "\n",
    "import sys\n",
    "import os\n",
    "py_file_location = \"/content/drive/My Drive\"\n",
    "sys.path.append(os.path.abspath(py_file_location))\n",
    "\n",
    "# Add this in a Google Colab cell to install the correct version of Pytorch Geometric.\n",
    "import torch\n",
    "\n",
    "def format_pytorch_version(version):\n",
    "  return version.split('+')[0]\n",
    "\n",
    "TORCH_version = torch.__version__\n",
    "TORCH = format_pytorch_version(TORCH_version)\n",
    "\n",
    "def format_cuda_version(version):\n",
    "  return 'cu' + version.replace('.', '')\n",
    "\n",
    "CUDA_version = torch.version.cuda\n",
    "CUDA = format_cuda_version(CUDA_version)\n",
    "\n",
    "!pip install torch-scatter -f https://data.pyg.org/whl/torch-{TORCH}+{CUDA}.html\n",
    "!pip install torch-sparse -f https://data.pyg.org/whl/torch-{TORCH}+{CUDA}.html\n",
    "!pip install torch-cluster -f https://data.pyg.org/whl/torch-{TORCH}+{CUDA}.html\n",
    "!pip install torch-spline-conv -f https://data.pyg.org/whl/torch-{TORCH}+{CUDA}.html\n",
    "!pip install torch-geometric"
   ]
  },
  {
   "cell_type": "code",
   "execution_count": null,
   "metadata": {
    "colab": {
     "base_uri": "https://localhost:8080/"
    },
    "executionInfo": {
     "elapsed": 21118,
     "status": "ok",
     "timestamp": 1716491607753,
     "user": {
      "displayName": "nicole blackburn",
      "userId": "16637525718590790705"
     },
     "user_tz": -60
    },
    "id": "Sv6nJ_rcbVhL",
    "outputId": "0e72c94d-0221-4bf1-f1fa-cc1bacedf1ac"
   },
   "outputs": [],
   "source": [
    "!pip uninstall -y networkx\n",
    "!pip uninstall -y python-louvain\n",
    "!pip uninstall -y community\n",
    "!pip install python-louvain\n",
    "!pip install networkx"
   ]
  },
  {
   "cell_type": "code",
   "execution_count": null,
   "metadata": {
    "colab": {
     "base_uri": "https://localhost:8080/",
     "height": 203
    },
    "executionInfo": {
     "elapsed": 36,
     "status": "ok",
     "timestamp": 1716491607754,
     "user": {
      "displayName": "nicole blackburn",
      "userId": "16637525718590790705"
     },
     "user_tz": -60
    },
    "id": "ygSr2daIZBNh",
    "outputId": "150b8857-9069-44f2-9ec2-cd82b4915442"
   },
   "outputs": [],
   "source": [
    "import community as community_louvain\n",
    "\n",
    "community_louvain.best_partition"
   ]
  },
  {
   "cell_type": "code",
   "execution_count": null,
   "metadata": {
    "colab": {
     "base_uri": "https://localhost:8080/"
    },
    "executionInfo": {
     "elapsed": 3638330,
     "status": "ok",
     "timestamp": 1716496063967,
     "user": {
      "displayName": "nicole blackburn",
      "userId": "16637525718590790705"
     },
     "user_tz": -60
    },
    "id": "DyyC18dZRrMv",
    "outputId": "ce9bd149-643e-4de2-d8e1-59805fc9677b"
   },
   "outputs": [],
   "source": [
    "!python /content/drive/My\\ main_clusterCV.py"
   ]
  },
  {
   "cell_type": "code",
   "execution_count": null,
   "metadata": {
    "executionInfo": {
     "elapsed": 3,
     "status": "ok",
     "timestamp": 1716491608234,
     "user": {
      "displayName": "nicole blackburn",
      "userId": "16637525718590790705"
     },
     "user_tz": -60
    },
    "id": "Of3xx8X1a2jd"
   },
   "outputs": [],
   "source": [
    "!python /content/drive/My\\ main_randomCV.py"
   ]
  }
 ],
 "metadata": {
  "accelerator": "GPU",
  "colab": {
   "gpuType": "T4",
   "provenance": []
  },
  "kernelspec": {
   "display_name": "Python 3 (ipykernel)",
   "language": "python",
   "name": "python3"
  },
  "language_info": {
   "codemirror_mode": {
    "name": "ipython",
    "version": 3
   },
   "file_extension": ".py",
   "mimetype": "text/x-python",
   "name": "python",
   "nbconvert_exporter": "python",
   "pygments_lexer": "ipython3",
   "version": "3.7.3"
  }
 },
 "nbformat": 4,
 "nbformat_minor": 1
}
