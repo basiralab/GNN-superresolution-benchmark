{
 "cells": [
  {
   "cell_type": "code",
   "execution_count": null,
   "metadata": {
    "id": "ZYoypgg2XpLT"
   },
   "outputs": [],
   "source": [
    "%pip install -q node2vec"
   ]
  },
  {
   "cell_type": "code",
   "execution_count": null,
   "metadata": {
    "id": "GCcdkFH6Ylqi"
   },
   "outputs": [],
   "source": [
    "import pandas as pd\n",
    "import numpy as np\n",
    "from evaluation_functions import KFold\n",
    "from node2vec import Node2Vec\n",
    "from tqdm import tqdm\n",
    "import networkx as nx\n",
    "\n",
    "import contextlib\n",
    "from IPython.utils import io\n",
    "\n",
    "data = KFold(cluster=True)"
   ]
  },
  {
   "cell_type": "code",
   "execution_count": null,
   "metadata": {
    "id": "rNQbIboHYoSh"
   },
   "outputs": [],
   "source": [
    "lr_data_shape = data.lr[0].shape\n",
    "hr_data_shape = data.hr[0].shape\n",
    "\n",
    "print(\"Lr Data Shape:\", lr_data_shape)\n",
    "print(\"Hr Data Shape:\", hr_data_shape)"
   ]
  },
  {
   "cell_type": "code",
   "execution_count": null,
   "metadata": {},
   "outputs": [],
   "source": [
    "matrix_size_lr = 160\n",
    "matrix_size_hr = 268\n",
    "\n",
    "data.preprocessing(matrix_size_lr, matrix_size_hr)"
   ]
  },
  {
   "cell_type": "code",
   "execution_count": null,
   "metadata": {
    "id": "f69ZC_ymYqpD"
   },
   "outputs": [],
   "source": [
    "\n",
    "def generate_node2vec_embeddings(adjacency_matrices, dimensions=160, walk_length=8, num_walks=10, workers=8):\n",
    "    embeddings = []\n",
    "    for i in tqdm(range(len(adjacency_matrices))):\n",
    "        with io.capture_output() as _:\n",
    "            graph = nx.from_numpy_matrix(adjacency_matrices[i])\n",
    "            node2vec = Node2Vec(graph, dimensions=dimensions, walk_length=walk_length, num_walks=num_walks, workers=workers)\n",
    "            model = node2vec.fit(window=10, min_count=1, batch_words=4)\n",
    "            embeddings.append(model.wv.vectors)\n",
    "    return np.array(embeddings)\n",
    "\n",
    "for i in range(0,3):\n",
    "    lr_embeddings = generate_node2vec_embeddings(data.lr[i])\n",
    "    np.save(f'Cluster CV/lr_embeddings_fold_{i+1}.npy', lr_embeddings)"
   ]
  }
 ],
 "metadata": {
  "colab": {
   "authorship_tag": "ABX9TyNIMNJyIotiPcKAdJLu8EMa",
   "provenance": []
  },
  "kernelspec": {
   "display_name": "Python 3",
   "name": "python3"
  },
  "language_info": {
   "codemirror_mode": {
    "name": "ipython",
    "version": 3
   },
   "file_extension": ".py",
   "mimetype": "text/x-python",
   "name": "python",
   "nbconvert_exporter": "python",
   "pygments_lexer": "ipython3",
   "version": "3.10.9"
  }
 },
 "nbformat": 4,
 "nbformat_minor": 0
}
